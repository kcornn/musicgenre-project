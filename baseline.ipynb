{
 "cells": [
  {
   "cell_type": "markdown",
   "metadata": {},
   "source": [
    "This notebook is for figuring out how to work with the FMA dataset"
   ]
  },
  {
   "cell_type": "code",
   "execution_count": null,
   "metadata": {},
   "outputs": [],
   "source": [
    "import numpy as np\n",
    "import pandas as pd\n",
    "import librosa\n",
    "import librosa.display\n",
    "import matplotlib\n",
    "import sklearn\n",
    "import os.path\n",
    "import sklearn\n",
    "import pickle"
   ]
  },
  {
   "cell_type": "code",
   "execution_count": null,
   "metadata": {},
   "outputs": [],
   "source": [
    "print('The scikit-learn version is {}.'.format(sklearn.__version__))"
   ]
  },
  {
   "cell_type": "code",
   "execution_count": null,
   "metadata": {},
   "outputs": [],
   "source": [
    "features = pd.read_csv(\"fma_metadata/features.csv\", index_col=0, header=[0,1,2])\n",
    "genres = pd.read_csv(\"fma_metadata/genres.csv\")\n",
    "tracks = pd.read_csv(\"fma_metadata/tracks.csv\", index_col=0, header=[0,1])"
   ]
  },
  {
   "cell_type": "code",
   "execution_count": null,
   "metadata": {},
   "outputs": [],
   "source": [
    "small = tracks['set','subset'] == 'small'\n",
    "small_tracks = tracks[small]"
   ]
  },
  {
   "cell_type": "code",
   "execution_count": null,
   "metadata": {},
   "outputs": [],
   "source": [
    "all_genres = small_tracks['track','genre_top']\n",
    "for genre in all_genres:\n",
    "    if genre not in small_tracks['track','genre_top'].unique():\n",
    "        print('not in list')"
   ]
  },
  {
   "cell_type": "code",
   "execution_count": null,
   "metadata": {},
   "outputs": [],
   "source": [
    "small_features = features[small]"
   ]
  },
  {
   "cell_type": "code",
   "execution_count": null,
   "metadata": {},
   "outputs": [],
   "source": [
    "len(small_features['chroma_cens'].columns)"
   ]
  },
  {
   "cell_type": "code",
   "execution_count": null,
   "metadata": {},
   "outputs": [],
   "source": [
    "small_features.head()"
   ]
  },
  {
   "cell_type": "code",
   "execution_count": null,
   "metadata": {},
   "outputs": [],
   "source": [
    "small_features['mfcc'].head()"
   ]
  },
  {
   "cell_type": "code",
   "execution_count": null,
   "metadata": {},
   "outputs": [],
   "source": [
    "len(tracks)"
   ]
  },
  {
   "cell_type": "code",
   "execution_count": null,
   "metadata": {},
   "outputs": [],
   "source": [
    "len(small_tracks)"
   ]
  },
  {
   "cell_type": "code",
   "execution_count": null,
   "metadata": {},
   "outputs": [],
   "source": [
    "small_tracks['track','genre_top'].unique() # All genres"
   ]
  },
  {
   "cell_type": "code",
   "execution_count": null,
   "metadata": {},
   "outputs": [],
   "source": [
    "for genre in small_tracks['track','genre_top'].unique():\n",
    "    print(genre, len(small_tracks[small_tracks['track','genre_top'] == genre]))"
   ]
  },
  {
   "cell_type": "markdown",
   "metadata": {},
   "source": [
    "Tracks are therefore evenly distributed in this dataset (8 genres, 1000 tracks each)"
   ]
  },
  {
   "cell_type": "code",
   "execution_count": null,
   "metadata": {},
   "outputs": [],
   "source": [
    "small_train = small_tracks[small_tracks['set','split'] == 'training']\n",
    "small_val = small_tracks[small_tracks['set','split'] == 'validation']\n",
    "small_test = small_tracks[small_tracks['set','split'] == 'test']"
   ]
  },
  {
   "cell_type": "code",
   "execution_count": null,
   "metadata": {},
   "outputs": [],
   "source": [
    "print(len(small_train))\n",
    "print(len(small_val))\n",
    "print(len(small_test))"
   ]
  },
  {
   "cell_type": "code",
   "execution_count": null,
   "metadata": {},
   "outputs": [],
   "source": [
    "X_train = small_features.loc[small_tracks['set','split'] == 'training']\n",
    "X_val = small_features.loc[small_tracks['set','split'] == 'validation']\n",
    "X_test = small_features.loc[small_tracks['set','split'] == 'test']"
   ]
  },
  {
   "cell_type": "code",
   "execution_count": null,
   "metadata": {},
   "outputs": [],
   "source": [
    "y_train = small_train['track','genre_top']\n",
    "y_val = small_val['track','genre_top']\n",
    "y_test = small_test['track','genre_top']"
   ]
  },
  {
   "cell_type": "code",
   "execution_count": null,
   "metadata": {},
   "outputs": [],
   "source": [
    "print(len(y_train))\n",
    "print(len(y_val))\n",
    "print(len(y_test))"
   ]
  },
  {
   "cell_type": "code",
   "execution_count": null,
   "metadata": {},
   "outputs": [],
   "source": [
    "le = sklearn.preprocessing.LabelEncoder()\n",
    "y_train = le.fit_transform(y_train)\n",
    "y_val = le.fit_transform(y_val)\n",
    "y_test = le.fit_transform(y_test)"
   ]
  },
  {
   "cell_type": "code",
   "execution_count": null,
   "metadata": {},
   "outputs": [],
   "source": [
    "le.classes_"
   ]
  },
  {
   "cell_type": "code",
   "execution_count": null,
   "metadata": {},
   "outputs": [],
   "source": [
    "y_train[:10]"
   ]
  },
  {
   "cell_type": "code",
   "execution_count": null,
   "metadata": {},
   "outputs": [],
   "source": [
    "small_train['track','genre_top'][:10]"
   ]
  },
  {
   "cell_type": "code",
   "execution_count": null,
   "metadata": {},
   "outputs": [],
   "source": [
    "len(list(X_train['mfcc'].columns))"
   ]
  },
  {
   "cell_type": "code",
   "execution_count": null,
   "metadata": {},
   "outputs": [],
   "source": [
    "len(list(X_train['chroma_cens'].columns))"
   ]
  },
  {
   "cell_type": "code",
   "execution_count": null,
   "metadata": {},
   "outputs": [],
   "source": [
    "X_train_mfcc = X_train['mfcc']\n",
    "X_val_mfcc = X_val['mfcc']\n",
    "X_test_mfcc = X_test['mfcc']"
   ]
  },
  {
   "cell_type": "code",
   "execution_count": null,
   "metadata": {},
   "outputs": [],
   "source": [
    "X_train_chroma = X_train['chroma_cens']\n",
    "X_val_chroma = X_val['chroma_cens']\n",
    "X_test_chroma = X_test['chroma_cens']"
   ]
  },
  {
   "cell_type": "code",
   "execution_count": null,
   "metadata": {},
   "outputs": [],
   "source": [
    "genres = le.inverse_transform([0,1,2,3,4,5,6,7])\n",
    "genres"
   ]
  },
  {
   "cell_type": "code",
   "execution_count": null,
   "metadata": {},
   "outputs": [],
   "source": [
    "lr = sklearn.linear_model.LogisticRegression(C=1, penalty='l2', solver='lbfgs', multi_class='multinomial')\n",
    "lr.fit(X_train_mfcc, y_train)\n",
    "y_pred = lr.predict(X_test_mfcc)\n",
    "print(sklearn.metrics.classification_report(y_test, y_pred, target_names=genres))"
   ]
  },
  {
   "cell_type": "code",
   "execution_count": null,
   "metadata": {},
   "outputs": [],
   "source": [
    "lr = sklearn.linear_model.LogisticRegression(C=1, penalty='l2')\n",
    "lr.fit(X_train_chroma, y_train)\n",
    "y_pred = lr.predict(X_test_chroma)\n",
    "print(sklearn.metrics.classification_report(y_test, y_pred, target_names=genres))"
   ]
  },
  {
   "cell_type": "code",
   "execution_count": null,
   "metadata": {},
   "outputs": [],
   "source": [
    "neigh = sklearn.neighbors.KNeighborsClassifier(n_neighbors=7)\n",
    "neigh.fit(X_train_mfcc, y_train)\n",
    "y_pred = neigh.predict(X_test_mfcc)\n",
    "print(sklearn.metrics.classification_report(y_test, y_pred, target_names=genres))"
   ]
  },
  {
   "cell_type": "code",
   "execution_count": null,
   "metadata": {},
   "outputs": [],
   "source": [
    "neigh = sklearn.neighbors.KNeighborsClassifier(n_neighbors=7)\n",
    "neigh.fit(X_train_chroma, y_train)\n",
    "y_pred = neigh.predict(X_test_chroma)\n",
    "print(sklearn.metrics.classification_report(y_test, y_pred, target_names=genres))"
   ]
  },
  {
   "cell_type": "code",
   "execution_count": null,
   "metadata": {},
   "outputs": [],
   "source": []
  },
  {
   "cell_type": "code",
   "execution_count": null,
   "metadata": {},
   "outputs": [],
   "source": []
  },
  {
   "cell_type": "code",
   "execution_count": null,
   "metadata": {},
   "outputs": [],
   "source": []
  },
  {
   "cell_type": "code",
   "execution_count": null,
   "metadata": {},
   "outputs": [],
   "source": [
    "C_params = [0.001, 0.1, 1, 5]\n",
    "for c in C_params:\n",
    "    print(\"C = \", c)\n",
    "    lr = sklearn.linear_model.LogisticRegression(C=c, penalty='l2', solver='lbfgs', multi_class='multinomial')\n",
    "    lr.fit(X_train_mfcc, y_train)\n",
    "    y_pred = lr.predict(X_test_mfcc)\n",
    "    print(sklearn.metrics.classification_report(y_test, y_pred, target_names=genres))\n"
   ]
  },
  {
   "cell_type": "code",
   "execution_count": null,
   "metadata": {},
   "outputs": [],
   "source": [
    "C_params = [0.001, 0.1, 1, 5]\n",
    "for c in C_params:\n",
    "    print(\"C = \", c)\n",
    "    lr = sklearn.linear_model.LogisticRegression(C=c, penalty='l2')\n",
    "    lr.fit(X_train_chroma, y_train)\n",
    "    y_pred = lr.predict(X_test_chroma)\n",
    "    print(sklearn.metrics.classification_report(y_test, y_pred, target_names=genres))"
   ]
  },
  {
   "cell_type": "code",
   "execution_count": null,
   "metadata": {},
   "outputs": [],
   "source": [
    "for n in range(1,11):\n",
    "    print(\"n_neighbors = \", n)\n",
    "    neigh = sklearn.neighbors.KNeighborsClassifier(n_neighbors=n)\n",
    "    neigh.fit(X_train_mfcc, y_train)\n",
    "    y_pred = neigh.predict(X_test_mfcc)\n",
    "    print(sklearn.metrics.classification_report(y_test, y_pred, target_names=genres))"
   ]
  },
  {
   "cell_type": "code",
   "execution_count": null,
   "metadata": {},
   "outputs": [],
   "source": [
    "for n in range(1,11):\n",
    "    print(\"n_neighbors = \", n)\n",
    "    neigh = sklearn.neighbors.KNeighborsClassifier(n_neighbors=n)\n",
    "    neigh.fit(X_train_chroma, y_train)\n",
    "    y_pred = neigh.predict(X_test_chroma)\n",
    "    print(sklearn.metrics.classification_report(y_test, y_pred, target_names=genres))"
   ]
  }
 ],
 "metadata": {
  "kernelspec": {
   "display_name": "Python 3",
   "language": "python",
   "name": "python3"
  },
  "language_info": {
   "codemirror_mode": {
    "name": "ipython",
    "version": 3
   },
   "file_extension": ".py",
   "mimetype": "text/x-python",
   "name": "python",
   "nbconvert_exporter": "python",
   "pygments_lexer": "ipython3",
   "version": "3.7.1"
  }
 },
 "nbformat": 4,
 "nbformat_minor": 2
}

{
 "cells": [
  {
   "cell_type": "markdown",
   "metadata": {},
   "source": [
    "This notebook is for figuring out how to work with the FMA dataset"
   ]
  },
  {
   "cell_type": "code",
   "execution_count": 31,
   "metadata": {},
   "outputs": [],
   "source": [
    "import numpy as np\n",
    "import pandas as pd\n",
    "import librosa\n",
    "import librosa.display\n",
    "import matplotlib\n",
    "import sklearn\n",
    "import os.path\n",
    "import sklearn"
   ]
  },
  {
   "cell_type": "code",
   "execution_count": 32,
   "metadata": {},
   "outputs": [],
   "source": [
    "features = pd.read_csv(\"fma_metadata/features.csv\", index_col=0, header=[0,1,2])\n",
    "genres = pd.read_csv(\"fma_metadata/genres.csv\")\n",
    "tracks = pd.read_csv(\"fma_metadata/tracks.csv\", index_col=0, header=[0,1])"
   ]
  },
  {
   "cell_type": "code",
   "execution_count": 33,
   "metadata": {},
   "outputs": [],
   "source": [
    "small = tracks['set','subset'] == 'small'\n",
    "small_tracks = tracks[small]"
   ]
  },
  {
   "cell_type": "code",
   "execution_count": 34,
   "metadata": {},
   "outputs": [],
   "source": [
    "all_genres = small_tracks['track','genre_top']\n",
    "for genre in all_genres:\n",
    "    if genre not in small_tracks['track','genre_top'].unique():\n",
    "        print('not in list')"
   ]
  },
  {
   "cell_type": "code",
   "execution_count": 35,
   "metadata": {},
   "outputs": [],
   "source": [
    "small_features = features[small]"
   ]
  },
  {
   "cell_type": "code",
   "execution_count": 36,
   "metadata": {},
   "outputs": [
    {
     "data": {
      "text/plain": [
       "84"
      ]
     },
     "execution_count": 36,
     "metadata": {},
     "output_type": "execute_result"
    }
   ],
   "source": [
    "len(small_features['chroma_cens'].columns)"
   ]
  },
  {
   "cell_type": "code",
   "execution_count": 37,
   "metadata": {},
   "outputs": [
    {
     "data": {
      "text/html": [
       "<div>\n",
       "<style scoped>\n",
       "    .dataframe tbody tr th:only-of-type {\n",
       "        vertical-align: middle;\n",
       "    }\n",
       "\n",
       "    .dataframe tbody tr th {\n",
       "        vertical-align: top;\n",
       "    }\n",
       "\n",
       "    .dataframe thead tr th {\n",
       "        text-align: left;\n",
       "    }\n",
       "\n",
       "    .dataframe thead tr:last-of-type th {\n",
       "        text-align: right;\n",
       "    }\n",
       "</style>\n",
       "<table border=\"1\" class=\"dataframe\">\n",
       "  <thead>\n",
       "    <tr>\n",
       "      <th>feature</th>\n",
       "      <th colspan=\"10\" halign=\"left\">chroma_cens</th>\n",
       "      <th>...</th>\n",
       "      <th colspan=\"3\" halign=\"left\">tonnetz</th>\n",
       "      <th colspan=\"7\" halign=\"left\">zcr</th>\n",
       "    </tr>\n",
       "    <tr>\n",
       "      <th>statistics</th>\n",
       "      <th colspan=\"10\" halign=\"left\">kurtosis</th>\n",
       "      <th>...</th>\n",
       "      <th colspan=\"3\" halign=\"left\">std</th>\n",
       "      <th>kurtosis</th>\n",
       "      <th>max</th>\n",
       "      <th>mean</th>\n",
       "      <th>median</th>\n",
       "      <th>min</th>\n",
       "      <th>skew</th>\n",
       "      <th>std</th>\n",
       "    </tr>\n",
       "    <tr>\n",
       "      <th>number</th>\n",
       "      <th>01</th>\n",
       "      <th>02</th>\n",
       "      <th>03</th>\n",
       "      <th>04</th>\n",
       "      <th>05</th>\n",
       "      <th>06</th>\n",
       "      <th>07</th>\n",
       "      <th>08</th>\n",
       "      <th>09</th>\n",
       "      <th>10</th>\n",
       "      <th>...</th>\n",
       "      <th>04</th>\n",
       "      <th>05</th>\n",
       "      <th>06</th>\n",
       "      <th>01</th>\n",
       "      <th>01</th>\n",
       "      <th>01</th>\n",
       "      <th>01</th>\n",
       "      <th>01</th>\n",
       "      <th>01</th>\n",
       "      <th>01</th>\n",
       "    </tr>\n",
       "    <tr>\n",
       "      <th>track_id</th>\n",
       "      <th></th>\n",
       "      <th></th>\n",
       "      <th></th>\n",
       "      <th></th>\n",
       "      <th></th>\n",
       "      <th></th>\n",
       "      <th></th>\n",
       "      <th></th>\n",
       "      <th></th>\n",
       "      <th></th>\n",
       "      <th></th>\n",
       "      <th></th>\n",
       "      <th></th>\n",
       "      <th></th>\n",
       "      <th></th>\n",
       "      <th></th>\n",
       "      <th></th>\n",
       "      <th></th>\n",
       "      <th></th>\n",
       "      <th></th>\n",
       "      <th></th>\n",
       "    </tr>\n",
       "  </thead>\n",
       "  <tbody>\n",
       "    <tr>\n",
       "      <th>2</th>\n",
       "      <td>7.180653</td>\n",
       "      <td>5.230309</td>\n",
       "      <td>0.249321</td>\n",
       "      <td>1.347620</td>\n",
       "      <td>1.482478</td>\n",
       "      <td>0.531371</td>\n",
       "      <td>1.481593</td>\n",
       "      <td>2.691455</td>\n",
       "      <td>0.866868</td>\n",
       "      <td>1.341231</td>\n",
       "      <td>...</td>\n",
       "      <td>0.054125</td>\n",
       "      <td>0.012226</td>\n",
       "      <td>0.012111</td>\n",
       "      <td>5.758890</td>\n",
       "      <td>0.459473</td>\n",
       "      <td>0.085629</td>\n",
       "      <td>0.071289</td>\n",
       "      <td>0.000000</td>\n",
       "      <td>2.089872</td>\n",
       "      <td>0.061448</td>\n",
       "    </tr>\n",
       "    <tr>\n",
       "      <th>5</th>\n",
       "      <td>0.527563</td>\n",
       "      <td>-0.077654</td>\n",
       "      <td>-0.279610</td>\n",
       "      <td>0.685883</td>\n",
       "      <td>1.937570</td>\n",
       "      <td>0.880839</td>\n",
       "      <td>-0.923192</td>\n",
       "      <td>-0.927232</td>\n",
       "      <td>0.666617</td>\n",
       "      <td>1.038546</td>\n",
       "      <td>...</td>\n",
       "      <td>0.040730</td>\n",
       "      <td>0.012691</td>\n",
       "      <td>0.014759</td>\n",
       "      <td>6.808415</td>\n",
       "      <td>0.375000</td>\n",
       "      <td>0.053114</td>\n",
       "      <td>0.041504</td>\n",
       "      <td>0.000000</td>\n",
       "      <td>2.193303</td>\n",
       "      <td>0.044861</td>\n",
       "    </tr>\n",
       "    <tr>\n",
       "      <th>10</th>\n",
       "      <td>3.702245</td>\n",
       "      <td>-0.291193</td>\n",
       "      <td>2.196742</td>\n",
       "      <td>-0.234449</td>\n",
       "      <td>1.367364</td>\n",
       "      <td>0.998411</td>\n",
       "      <td>1.770694</td>\n",
       "      <td>1.604566</td>\n",
       "      <td>0.521217</td>\n",
       "      <td>1.982386</td>\n",
       "      <td>...</td>\n",
       "      <td>0.074358</td>\n",
       "      <td>0.017952</td>\n",
       "      <td>0.013921</td>\n",
       "      <td>21.434212</td>\n",
       "      <td>0.452148</td>\n",
       "      <td>0.077515</td>\n",
       "      <td>0.071777</td>\n",
       "      <td>0.000000</td>\n",
       "      <td>3.542325</td>\n",
       "      <td>0.040800</td>\n",
       "    </tr>\n",
       "    <tr>\n",
       "      <th>140</th>\n",
       "      <td>0.533579</td>\n",
       "      <td>-0.623885</td>\n",
       "      <td>-1.086205</td>\n",
       "      <td>-1.081079</td>\n",
       "      <td>-0.765151</td>\n",
       "      <td>-0.072282</td>\n",
       "      <td>-0.882913</td>\n",
       "      <td>-0.582376</td>\n",
       "      <td>-0.884749</td>\n",
       "      <td>-0.645214</td>\n",
       "      <td>...</td>\n",
       "      <td>0.157683</td>\n",
       "      <td>0.028070</td>\n",
       "      <td>0.025946</td>\n",
       "      <td>11.052547</td>\n",
       "      <td>0.379395</td>\n",
       "      <td>0.052379</td>\n",
       "      <td>0.036621</td>\n",
       "      <td>0.001953</td>\n",
       "      <td>3.143968</td>\n",
       "      <td>0.057712</td>\n",
       "    </tr>\n",
       "    <tr>\n",
       "      <th>141</th>\n",
       "      <td>0.172898</td>\n",
       "      <td>-0.284804</td>\n",
       "      <td>-1.169662</td>\n",
       "      <td>-1.062855</td>\n",
       "      <td>-0.706868</td>\n",
       "      <td>-0.708281</td>\n",
       "      <td>-0.204884</td>\n",
       "      <td>0.023624</td>\n",
       "      <td>-0.642770</td>\n",
       "      <td>-0.786291</td>\n",
       "      <td>...</td>\n",
       "      <td>0.145994</td>\n",
       "      <td>0.024342</td>\n",
       "      <td>0.032111</td>\n",
       "      <td>32.994659</td>\n",
       "      <td>0.415527</td>\n",
       "      <td>0.040267</td>\n",
       "      <td>0.034668</td>\n",
       "      <td>0.002930</td>\n",
       "      <td>4.204097</td>\n",
       "      <td>0.028665</td>\n",
       "    </tr>\n",
       "  </tbody>\n",
       "</table>\n",
       "<p>5 rows × 518 columns</p>\n",
       "</div>"
      ],
      "text/plain": [
       "feature    chroma_cens                                                    \\\n",
       "statistics    kurtosis                                                     \n",
       "number              01        02        03        04        05        06   \n",
       "track_id                                                                   \n",
       "2             7.180653  5.230309  0.249321  1.347620  1.482478  0.531371   \n",
       "5             0.527563 -0.077654 -0.279610  0.685883  1.937570  0.880839   \n",
       "10            3.702245 -0.291193  2.196742 -0.234449  1.367364  0.998411   \n",
       "140           0.533579 -0.623885 -1.086205 -1.081079 -0.765151 -0.072282   \n",
       "141           0.172898 -0.284804 -1.169662 -1.062855 -0.706868 -0.708281   \n",
       "\n",
       "feature                                             ...   tonnetz            \\\n",
       "statistics                                          ...       std             \n",
       "number            07        08        09        10  ...        04        05   \n",
       "track_id                                            ...                       \n",
       "2           1.481593  2.691455  0.866868  1.341231  ...  0.054125  0.012226   \n",
       "5          -0.923192 -0.927232  0.666617  1.038546  ...  0.040730  0.012691   \n",
       "10          1.770694  1.604566  0.521217  1.982386  ...  0.074358  0.017952   \n",
       "140        -0.882913 -0.582376 -0.884749 -0.645214  ...  0.157683  0.028070   \n",
       "141        -0.204884  0.023624 -0.642770 -0.786291  ...  0.145994  0.024342   \n",
       "\n",
       "feature                     zcr                                          \\\n",
       "statistics             kurtosis       max      mean    median       min   \n",
       "number            06         01        01        01        01        01   \n",
       "track_id                                                                  \n",
       "2           0.012111   5.758890  0.459473  0.085629  0.071289  0.000000   \n",
       "5           0.014759   6.808415  0.375000  0.053114  0.041504  0.000000   \n",
       "10          0.013921  21.434212  0.452148  0.077515  0.071777  0.000000   \n",
       "140         0.025946  11.052547  0.379395  0.052379  0.036621  0.001953   \n",
       "141         0.032111  32.994659  0.415527  0.040267  0.034668  0.002930   \n",
       "\n",
       "feature                         \n",
       "statistics      skew       std  \n",
       "number            01        01  \n",
       "track_id                        \n",
       "2           2.089872  0.061448  \n",
       "5           2.193303  0.044861  \n",
       "10          3.542325  0.040800  \n",
       "140         3.143968  0.057712  \n",
       "141         4.204097  0.028665  \n",
       "\n",
       "[5 rows x 518 columns]"
      ]
     },
     "execution_count": 37,
     "metadata": {},
     "output_type": "execute_result"
    }
   ],
   "source": [
    "small_features.head()"
   ]
  },
  {
   "cell_type": "code",
   "execution_count": 38,
   "metadata": {},
   "outputs": [
    {
     "data": {
      "text/html": [
       "<div>\n",
       "<style scoped>\n",
       "    .dataframe tbody tr th:only-of-type {\n",
       "        vertical-align: middle;\n",
       "    }\n",
       "\n",
       "    .dataframe tbody tr th {\n",
       "        vertical-align: top;\n",
       "    }\n",
       "\n",
       "    .dataframe thead tr th {\n",
       "        text-align: left;\n",
       "    }\n",
       "\n",
       "    .dataframe thead tr:last-of-type th {\n",
       "        text-align: right;\n",
       "    }\n",
       "</style>\n",
       "<table border=\"1\" class=\"dataframe\">\n",
       "  <thead>\n",
       "    <tr>\n",
       "      <th>statistics</th>\n",
       "      <th colspan=\"10\" halign=\"left\">kurtosis</th>\n",
       "      <th>...</th>\n",
       "      <th colspan=\"10\" halign=\"left\">std</th>\n",
       "    </tr>\n",
       "    <tr>\n",
       "      <th>number</th>\n",
       "      <th>01</th>\n",
       "      <th>02</th>\n",
       "      <th>03</th>\n",
       "      <th>04</th>\n",
       "      <th>05</th>\n",
       "      <th>06</th>\n",
       "      <th>07</th>\n",
       "      <th>08</th>\n",
       "      <th>09</th>\n",
       "      <th>10</th>\n",
       "      <th>...</th>\n",
       "      <th>11</th>\n",
       "      <th>12</th>\n",
       "      <th>13</th>\n",
       "      <th>14</th>\n",
       "      <th>15</th>\n",
       "      <th>16</th>\n",
       "      <th>17</th>\n",
       "      <th>18</th>\n",
       "      <th>19</th>\n",
       "      <th>20</th>\n",
       "    </tr>\n",
       "    <tr>\n",
       "      <th>track_id</th>\n",
       "      <th></th>\n",
       "      <th></th>\n",
       "      <th></th>\n",
       "      <th></th>\n",
       "      <th></th>\n",
       "      <th></th>\n",
       "      <th></th>\n",
       "      <th></th>\n",
       "      <th></th>\n",
       "      <th></th>\n",
       "      <th></th>\n",
       "      <th></th>\n",
       "      <th></th>\n",
       "      <th></th>\n",
       "      <th></th>\n",
       "      <th></th>\n",
       "      <th></th>\n",
       "      <th></th>\n",
       "      <th></th>\n",
       "      <th></th>\n",
       "      <th></th>\n",
       "    </tr>\n",
       "  </thead>\n",
       "  <tbody>\n",
       "    <tr>\n",
       "      <th>2</th>\n",
       "      <td>3.856789</td>\n",
       "      <td>1.541901</td>\n",
       "      <td>0.000816</td>\n",
       "      <td>0.330728</td>\n",
       "      <td>0.118731</td>\n",
       "      <td>-0.342687</td>\n",
       "      <td>-0.259252</td>\n",
       "      <td>0.146735</td>\n",
       "      <td>0.410656</td>\n",
       "      <td>-0.162872</td>\n",
       "      <td>...</td>\n",
       "      <td>10.059609</td>\n",
       "      <td>8.601942</td>\n",
       "      <td>9.284250</td>\n",
       "      <td>9.245516</td>\n",
       "      <td>8.520863</td>\n",
       "      <td>8.560472</td>\n",
       "      <td>7.651871</td>\n",
       "      <td>7.246555</td>\n",
       "      <td>7.077188</td>\n",
       "      <td>7.391859</td>\n",
       "    </tr>\n",
       "    <tr>\n",
       "      <th>5</th>\n",
       "      <td>2.624517</td>\n",
       "      <td>2.415293</td>\n",
       "      <td>0.440233</td>\n",
       "      <td>-0.782131</td>\n",
       "      <td>-0.771069</td>\n",
       "      <td>-0.724216</td>\n",
       "      <td>0.090260</td>\n",
       "      <td>0.152119</td>\n",
       "      <td>0.261731</td>\n",
       "      <td>-0.608905</td>\n",
       "      <td>...</td>\n",
       "      <td>8.863638</td>\n",
       "      <td>9.581952</td>\n",
       "      <td>8.895723</td>\n",
       "      <td>8.141456</td>\n",
       "      <td>8.201844</td>\n",
       "      <td>7.780963</td>\n",
       "      <td>7.132692</td>\n",
       "      <td>7.539753</td>\n",
       "      <td>8.452527</td>\n",
       "      <td>7.334442</td>\n",
       "    </tr>\n",
       "    <tr>\n",
       "      <th>10</th>\n",
       "      <td>5.076893</td>\n",
       "      <td>1.161854</td>\n",
       "      <td>2.095651</td>\n",
       "      <td>1.372743</td>\n",
       "      <td>-0.203574</td>\n",
       "      <td>-0.345354</td>\n",
       "      <td>-0.529139</td>\n",
       "      <td>0.561974</td>\n",
       "      <td>0.281350</td>\n",
       "      <td>-0.150672</td>\n",
       "      <td>...</td>\n",
       "      <td>8.289734</td>\n",
       "      <td>7.985110</td>\n",
       "      <td>7.075400</td>\n",
       "      <td>6.972649</td>\n",
       "      <td>7.071393</td>\n",
       "      <td>7.270959</td>\n",
       "      <td>7.051070</td>\n",
       "      <td>6.928591</td>\n",
       "      <td>6.430473</td>\n",
       "      <td>6.186294</td>\n",
       "    </tr>\n",
       "    <tr>\n",
       "      <th>140</th>\n",
       "      <td>0.384906</td>\n",
       "      <td>1.203378</td>\n",
       "      <td>0.429393</td>\n",
       "      <td>0.639471</td>\n",
       "      <td>-0.080144</td>\n",
       "      <td>-0.440946</td>\n",
       "      <td>-0.432567</td>\n",
       "      <td>-0.126163</td>\n",
       "      <td>0.507695</td>\n",
       "      <td>0.408915</td>\n",
       "      <td>...</td>\n",
       "      <td>9.883532</td>\n",
       "      <td>8.250456</td>\n",
       "      <td>8.085891</td>\n",
       "      <td>8.114858</td>\n",
       "      <td>8.832722</td>\n",
       "      <td>8.157245</td>\n",
       "      <td>7.297486</td>\n",
       "      <td>7.734456</td>\n",
       "      <td>7.807103</td>\n",
       "      <td>7.986255</td>\n",
       "    </tr>\n",
       "    <tr>\n",
       "      <th>141</th>\n",
       "      <td>-0.038922</td>\n",
       "      <td>4.771146</td>\n",
       "      <td>-0.378949</td>\n",
       "      <td>-0.309047</td>\n",
       "      <td>-0.661308</td>\n",
       "      <td>-0.531602</td>\n",
       "      <td>0.029186</td>\n",
       "      <td>0.662524</td>\n",
       "      <td>-0.084562</td>\n",
       "      <td>0.965640</td>\n",
       "      <td>...</td>\n",
       "      <td>9.464321</td>\n",
       "      <td>8.119837</td>\n",
       "      <td>8.918522</td>\n",
       "      <td>8.059117</td>\n",
       "      <td>9.339061</td>\n",
       "      <td>8.451561</td>\n",
       "      <td>8.426965</td>\n",
       "      <td>8.341757</td>\n",
       "      <td>8.572934</td>\n",
       "      <td>9.351485</td>\n",
       "    </tr>\n",
       "  </tbody>\n",
       "</table>\n",
       "<p>5 rows × 140 columns</p>\n",
       "</div>"
      ],
      "text/plain": [
       "statistics  kurtosis                                                    \\\n",
       "number            01        02        03        04        05        06   \n",
       "track_id                                                                 \n",
       "2           3.856789  1.541901  0.000816  0.330728  0.118731 -0.342687   \n",
       "5           2.624517  2.415293  0.440233 -0.782131 -0.771069 -0.724216   \n",
       "10          5.076893  1.161854  2.095651  1.372743 -0.203574 -0.345354   \n",
       "140         0.384906  1.203378  0.429393  0.639471 -0.080144 -0.440946   \n",
       "141        -0.038922  4.771146 -0.378949 -0.309047 -0.661308 -0.531602   \n",
       "\n",
       "statistics                                          ...        std            \\\n",
       "number            07        08        09        10  ...         11        12   \n",
       "track_id                                            ...                        \n",
       "2          -0.259252  0.146735  0.410656 -0.162872  ...  10.059609  8.601942   \n",
       "5           0.090260  0.152119  0.261731 -0.608905  ...   8.863638  9.581952   \n",
       "10         -0.529139  0.561974  0.281350 -0.150672  ...   8.289734  7.985110   \n",
       "140        -0.432567 -0.126163  0.507695  0.408915  ...   9.883532  8.250456   \n",
       "141         0.029186  0.662524 -0.084562  0.965640  ...   9.464321  8.119837   \n",
       "\n",
       "statistics                                                              \\\n",
       "number            13        14        15        16        17        18   \n",
       "track_id                                                                 \n",
       "2           9.284250  9.245516  8.520863  8.560472  7.651871  7.246555   \n",
       "5           8.895723  8.141456  8.201844  7.780963  7.132692  7.539753   \n",
       "10          7.075400  6.972649  7.071393  7.270959  7.051070  6.928591   \n",
       "140         8.085891  8.114858  8.832722  8.157245  7.297486  7.734456   \n",
       "141         8.918522  8.059117  9.339061  8.451561  8.426965  8.341757   \n",
       "\n",
       "statistics                      \n",
       "number            19        20  \n",
       "track_id                        \n",
       "2           7.077188  7.391859  \n",
       "5           8.452527  7.334442  \n",
       "10          6.430473  6.186294  \n",
       "140         7.807103  7.986255  \n",
       "141         8.572934  9.351485  \n",
       "\n",
       "[5 rows x 140 columns]"
      ]
     },
     "execution_count": 38,
     "metadata": {},
     "output_type": "execute_result"
    }
   ],
   "source": [
    "small_features['mfcc'].head()"
   ]
  },
  {
   "cell_type": "code",
   "execution_count": 39,
   "metadata": {},
   "outputs": [
    {
     "data": {
      "text/plain": [
       "106574"
      ]
     },
     "execution_count": 39,
     "metadata": {},
     "output_type": "execute_result"
    }
   ],
   "source": [
    "len(tracks)"
   ]
  },
  {
   "cell_type": "code",
   "execution_count": 40,
   "metadata": {},
   "outputs": [
    {
     "data": {
      "text/plain": [
       "8000"
      ]
     },
     "execution_count": 40,
     "metadata": {},
     "output_type": "execute_result"
    }
   ],
   "source": [
    "len(small_tracks)"
   ]
  },
  {
   "cell_type": "code",
   "execution_count": 41,
   "metadata": {},
   "outputs": [
    {
     "data": {
      "text/plain": [
       "array(['Hip-Hop', 'Pop', 'Folk', 'Experimental', 'Rock', 'International',\n",
       "       'Electronic', 'Instrumental'], dtype=object)"
      ]
     },
     "execution_count": 41,
     "metadata": {},
     "output_type": "execute_result"
    }
   ],
   "source": [
    "small_tracks['track','genre_top'].unique() # All genres"
   ]
  },
  {
   "cell_type": "code",
   "execution_count": 42,
   "metadata": {},
   "outputs": [
    {
     "name": "stdout",
     "output_type": "stream",
     "text": [
      "Hip-Hop 1000\n",
      "Pop 1000\n",
      "Folk 1000\n",
      "Experimental 1000\n",
      "Rock 1000\n",
      "International 1000\n",
      "Electronic 1000\n",
      "Instrumental 1000\n"
     ]
    }
   ],
   "source": [
    "for genre in small_tracks['track','genre_top'].unique():\n",
    "    print(genre, len(small_tracks[small_tracks['track','genre_top'] == genre]))"
   ]
  },
  {
   "cell_type": "markdown",
   "metadata": {},
   "source": [
    "Tracks are therefore evenly distributed in this dataset (8 genres, 1000 tracks each)"
   ]
  },
  {
   "cell_type": "code",
   "execution_count": 43,
   "metadata": {},
   "outputs": [],
   "source": [
    "small_train = small_tracks[small_tracks['set','split'] == 'training']\n",
    "small_val = small_tracks[small_tracks['set','split'] == 'validation']\n",
    "small_test = small_tracks[small_tracks['set','split'] == 'test']"
   ]
  },
  {
   "cell_type": "code",
   "execution_count": 44,
   "metadata": {},
   "outputs": [
    {
     "name": "stdout",
     "output_type": "stream",
     "text": [
      "6400\n",
      "800\n",
      "800\n"
     ]
    }
   ],
   "source": [
    "print(len(small_train))\n",
    "print(len(small_val))\n",
    "print(len(small_test))"
   ]
  },
  {
   "cell_type": "code",
   "execution_count": 45,
   "metadata": {},
   "outputs": [],
   "source": [
    "X_train = small_features.loc[small_tracks['set','split'] == 'training']\n",
    "X_val = small_features.loc[small_tracks['set','split'] == 'validation']\n",
    "X_test = small_features.loc[small_tracks['set','split'] == 'test']"
   ]
  },
  {
   "cell_type": "code",
   "execution_count": 46,
   "metadata": {},
   "outputs": [],
   "source": [
    "y_train = small_train['track','genre_top']\n",
    "y_val = small_val['track','genre_top']\n",
    "y_test = small_test['track','genre_top']"
   ]
  },
  {
   "cell_type": "code",
   "execution_count": 47,
   "metadata": {},
   "outputs": [
    {
     "name": "stdout",
     "output_type": "stream",
     "text": [
      "6400\n",
      "800\n",
      "800\n"
     ]
    }
   ],
   "source": [
    "print(len(y_train))\n",
    "print(len(y_val))\n",
    "print(len(y_test))"
   ]
  },
  {
   "cell_type": "code",
   "execution_count": 48,
   "metadata": {},
   "outputs": [],
   "source": [
    "le = sklearn.preprocessing.LabelEncoder()\n",
    "y_train = le.fit_transform(y_train)\n",
    "y_val = le.fit_transform(y_val)\n",
    "y_test = le.fit_transform(y_test)"
   ]
  },
  {
   "cell_type": "code",
   "execution_count": 49,
   "metadata": {},
   "outputs": [
    {
     "data": {
      "text/plain": [
       "array(['Electronic', 'Experimental', 'Folk', 'Hip-Hop', 'Instrumental',\n",
       "       'International', 'Pop', 'Rock'], dtype=object)"
      ]
     },
     "execution_count": 49,
     "metadata": {},
     "output_type": "execute_result"
    }
   ],
   "source": [
    "le.classes_"
   ]
  },
  {
   "cell_type": "code",
   "execution_count": 50,
   "metadata": {},
   "outputs": [
    {
     "data": {
      "text/plain": [
       "array([3, 3, 6, 2, 2, 2, 2, 2, 2, 2])"
      ]
     },
     "execution_count": 50,
     "metadata": {},
     "output_type": "execute_result"
    }
   ],
   "source": [
    "y_train[:10]"
   ]
  },
  {
   "cell_type": "code",
   "execution_count": 51,
   "metadata": {},
   "outputs": [
    {
     "data": {
      "text/plain": [
       "track_id\n",
       "2      Hip-Hop\n",
       "5      Hip-Hop\n",
       "10         Pop\n",
       "140       Folk\n",
       "141       Folk\n",
       "190       Folk\n",
       "193       Folk\n",
       "194       Folk\n",
       "197       Folk\n",
       "200       Folk\n",
       "Name: (track, genre_top), dtype: object"
      ]
     },
     "execution_count": 51,
     "metadata": {},
     "output_type": "execute_result"
    }
   ],
   "source": [
    "small_train['track','genre_top'][:10]"
   ]
  },
  {
   "cell_type": "code",
   "execution_count": 52,
   "metadata": {},
   "outputs": [
    {
     "data": {
      "text/plain": [
       "140"
      ]
     },
     "execution_count": 52,
     "metadata": {},
     "output_type": "execute_result"
    }
   ],
   "source": [
    "len(list(X_train['mfcc'].columns))"
   ]
  },
  {
   "cell_type": "code",
   "execution_count": 53,
   "metadata": {},
   "outputs": [
    {
     "data": {
      "text/plain": [
       "84"
      ]
     },
     "execution_count": 53,
     "metadata": {},
     "output_type": "execute_result"
    }
   ],
   "source": [
    "len(list(X_train['chroma_cens'].columns))"
   ]
  },
  {
   "cell_type": "code",
   "execution_count": 54,
   "metadata": {},
   "outputs": [],
   "source": [
    "X_train_mfcc = X_train['mfcc']\n",
    "X_val_mfcc = X_val['mfcc']\n",
    "X_test_mfcc = X_test['mfcc']"
   ]
  },
  {
   "cell_type": "code",
   "execution_count": 55,
   "metadata": {},
   "outputs": [],
   "source": [
    "X_train_chroma = X_train['chroma_cens']\n",
    "X_val_chroma = X_val['chroma_cens']\n",
    "X_test_chroma = X_test['chroma_cens']"
   ]
  },
  {
   "cell_type": "code",
   "execution_count": 56,
   "metadata": {},
   "outputs": [
    {
     "data": {
      "text/plain": [
       "array(['Electronic', 'Experimental', 'Folk', 'Hip-Hop', 'Instrumental',\n",
       "       'International', 'Pop', 'Rock'], dtype=object)"
      ]
     },
     "execution_count": 56,
     "metadata": {},
     "output_type": "execute_result"
    }
   ],
   "source": [
    "genres = le.inverse_transform([0,1,2,3,4,5,6,7])\n",
    "genres"
   ]
  },
  {
   "cell_type": "code",
   "execution_count": 57,
   "metadata": {},
   "outputs": [
    {
     "name": "stdout",
     "output_type": "stream",
     "text": [
      "C =  0.001\n"
     ]
    },
    {
     "name": "stderr",
     "output_type": "stream",
     "text": [
      "/Library/Frameworks/Python.framework/Versions/3.7/lib/python3.7/site-packages/sklearn/linear_model/logistic.py:433: FutureWarning: Default solver will be changed to 'lbfgs' in 0.22. Specify a solver to silence this warning.\n",
      "  FutureWarning)\n",
      "/Library/Frameworks/Python.framework/Versions/3.7/lib/python3.7/site-packages/sklearn/linear_model/logistic.py:460: FutureWarning: Default multi_class will be changed to 'auto' in 0.22. Specify the multi_class option to silence this warning.\n",
      "  \"this warning.\", FutureWarning)\n"
     ]
    },
    {
     "name": "stdout",
     "output_type": "stream",
     "text": [
      "               precision    recall  f1-score   support\n",
      "\n",
      "   Electronic       0.47      0.54      0.50       100\n",
      " Experimental       0.34      0.26      0.29       100\n",
      "         Folk       0.19      0.19      0.19       100\n",
      "      Hip-Hop       0.58      0.66      0.62       100\n",
      " Instrumental       0.47      0.43      0.45       100\n",
      "International       0.42      0.47      0.44       100\n",
      "          Pop       0.27      0.22      0.24       100\n",
      "         Rock       0.58      0.61      0.60       100\n",
      "\n",
      "    micro avg       0.42      0.42      0.42       800\n",
      "    macro avg       0.41      0.42      0.42       800\n",
      " weighted avg       0.41      0.42      0.42       800\n",
      "\n",
      "C =  0.1\n"
     ]
    },
    {
     "name": "stderr",
     "output_type": "stream",
     "text": [
      "/Library/Frameworks/Python.framework/Versions/3.7/lib/python3.7/site-packages/sklearn/linear_model/logistic.py:433: FutureWarning: Default solver will be changed to 'lbfgs' in 0.22. Specify a solver to silence this warning.\n",
      "  FutureWarning)\n",
      "/Library/Frameworks/Python.framework/Versions/3.7/lib/python3.7/site-packages/sklearn/linear_model/logistic.py:460: FutureWarning: Default multi_class will be changed to 'auto' in 0.22. Specify the multi_class option to silence this warning.\n",
      "  \"this warning.\", FutureWarning)\n"
     ]
    },
    {
     "name": "stdout",
     "output_type": "stream",
     "text": [
      "               precision    recall  f1-score   support\n",
      "\n",
      "   Electronic       0.50      0.56      0.53       100\n",
      " Experimental       0.32      0.26      0.29       100\n",
      "         Folk       0.17      0.15      0.16       100\n",
      "      Hip-Hop       0.60      0.68      0.64       100\n",
      " Instrumental       0.49      0.45      0.47       100\n",
      "International       0.39      0.43      0.41       100\n",
      "          Pop       0.24      0.22      0.23       100\n",
      "         Rock       0.58      0.63      0.60       100\n",
      "\n",
      "    micro avg       0.42      0.42      0.42       800\n",
      "    macro avg       0.41      0.42      0.41       800\n",
      " weighted avg       0.41      0.42      0.41       800\n",
      "\n",
      "C =  1\n"
     ]
    },
    {
     "name": "stderr",
     "output_type": "stream",
     "text": [
      "/Library/Frameworks/Python.framework/Versions/3.7/lib/python3.7/site-packages/sklearn/linear_model/logistic.py:433: FutureWarning: Default solver will be changed to 'lbfgs' in 0.22. Specify a solver to silence this warning.\n",
      "  FutureWarning)\n",
      "/Library/Frameworks/Python.framework/Versions/3.7/lib/python3.7/site-packages/sklearn/linear_model/logistic.py:460: FutureWarning: Default multi_class will be changed to 'auto' in 0.22. Specify the multi_class option to silence this warning.\n",
      "  \"this warning.\", FutureWarning)\n"
     ]
    },
    {
     "name": "stdout",
     "output_type": "stream",
     "text": [
      "               precision    recall  f1-score   support\n",
      "\n",
      "   Electronic       0.49      0.54      0.51       100\n",
      " Experimental       0.31      0.25      0.28       100\n",
      "         Folk       0.16      0.14      0.15       100\n",
      "      Hip-Hop       0.60      0.71      0.65       100\n",
      " Instrumental       0.52      0.46      0.49       100\n",
      "International       0.39      0.42      0.40       100\n",
      "          Pop       0.22      0.21      0.22       100\n",
      "         Rock       0.57      0.64      0.60       100\n",
      "\n",
      "    micro avg       0.42      0.42      0.42       800\n",
      "    macro avg       0.41      0.42      0.41       800\n",
      " weighted avg       0.41      0.42      0.41       800\n",
      "\n",
      "C =  5\n"
     ]
    },
    {
     "name": "stderr",
     "output_type": "stream",
     "text": [
      "/Library/Frameworks/Python.framework/Versions/3.7/lib/python3.7/site-packages/sklearn/linear_model/logistic.py:433: FutureWarning: Default solver will be changed to 'lbfgs' in 0.22. Specify a solver to silence this warning.\n",
      "  FutureWarning)\n",
      "/Library/Frameworks/Python.framework/Versions/3.7/lib/python3.7/site-packages/sklearn/linear_model/logistic.py:460: FutureWarning: Default multi_class will be changed to 'auto' in 0.22. Specify the multi_class option to silence this warning.\n",
      "  \"this warning.\", FutureWarning)\n"
     ]
    },
    {
     "name": "stdout",
     "output_type": "stream",
     "text": [
      "               precision    recall  f1-score   support\n",
      "\n",
      "   Electronic       0.48      0.54      0.51       100\n",
      " Experimental       0.30      0.24      0.27       100\n",
      "         Folk       0.16      0.14      0.15       100\n",
      "      Hip-Hop       0.60      0.70      0.65       100\n",
      " Instrumental       0.51      0.45      0.48       100\n",
      "International       0.39      0.43      0.41       100\n",
      "          Pop       0.23      0.22      0.23       100\n",
      "         Rock       0.57      0.64      0.60       100\n",
      "\n",
      "    micro avg       0.42      0.42      0.42       800\n",
      "    macro avg       0.41      0.42      0.41       800\n",
      " weighted avg       0.41      0.42      0.41       800\n",
      "\n"
     ]
    }
   ],
   "source": [
    "C_params = [0.001, 0.1, 1, 5]\n",
    "for c in C_params:\n",
    "    print(\"C = \", c)\n",
    "    lr = sklearn.linear_model.LogisticRegression(C=c, penalty='l2')\n",
    "    lr.fit(X_train_mfcc, y_train)\n",
    "    y_pred = lr.predict(X_test_mfcc)\n",
    "    print(sklearn.metrics.classification_report(y_test, y_pred, target_names=genres))"
   ]
  },
  {
   "cell_type": "code",
   "execution_count": 58,
   "metadata": {},
   "outputs": [
    {
     "name": "stdout",
     "output_type": "stream",
     "text": [
      "C =  0.001\n"
     ]
    },
    {
     "name": "stderr",
     "output_type": "stream",
     "text": [
      "/Library/Frameworks/Python.framework/Versions/3.7/lib/python3.7/site-packages/sklearn/linear_model/logistic.py:433: FutureWarning: Default solver will be changed to 'lbfgs' in 0.22. Specify a solver to silence this warning.\n",
      "  FutureWarning)\n",
      "/Library/Frameworks/Python.framework/Versions/3.7/lib/python3.7/site-packages/sklearn/linear_model/logistic.py:460: FutureWarning: Default multi_class will be changed to 'auto' in 0.22. Specify the multi_class option to silence this warning.\n",
      "  \"this warning.\", FutureWarning)\n"
     ]
    },
    {
     "name": "stdout",
     "output_type": "stream",
     "text": [
      "               precision    recall  f1-score   support\n",
      "\n",
      "   Electronic       0.17      0.02      0.04       100\n",
      " Experimental       0.16      0.27      0.20       100\n",
      "         Folk       0.10      0.18      0.13       100\n",
      "      Hip-Hop       0.23      0.14      0.17       100\n",
      " Instrumental       0.18      0.33      0.23       100\n",
      "International       0.09      0.05      0.06       100\n",
      "          Pop       0.06      0.05      0.06       100\n",
      "         Rock       0.24      0.14      0.18       100\n",
      "\n",
      "    micro avg       0.15      0.15      0.15       800\n",
      "    macro avg       0.15      0.15      0.13       800\n",
      " weighted avg       0.15      0.15      0.13       800\n",
      "\n",
      "C =  0.1\n"
     ]
    },
    {
     "name": "stderr",
     "output_type": "stream",
     "text": [
      "/Library/Frameworks/Python.framework/Versions/3.7/lib/python3.7/site-packages/sklearn/linear_model/logistic.py:433: FutureWarning: Default solver will be changed to 'lbfgs' in 0.22. Specify a solver to silence this warning.\n",
      "  FutureWarning)\n",
      "/Library/Frameworks/Python.framework/Versions/3.7/lib/python3.7/site-packages/sklearn/linear_model/logistic.py:460: FutureWarning: Default multi_class will be changed to 'auto' in 0.22. Specify the multi_class option to silence this warning.\n",
      "  \"this warning.\", FutureWarning)\n"
     ]
    },
    {
     "name": "stdout",
     "output_type": "stream",
     "text": [
      "               precision    recall  f1-score   support\n",
      "\n",
      "   Electronic       0.10      0.05      0.07       100\n",
      " Experimental       0.17      0.19      0.18       100\n",
      "         Folk       0.09      0.12      0.10       100\n",
      "      Hip-Hop       0.34      0.34      0.34       100\n",
      " Instrumental       0.23      0.30      0.26       100\n",
      "International       0.21      0.18      0.19       100\n",
      "          Pop       0.10      0.04      0.06       100\n",
      "         Rock       0.21      0.31      0.25       100\n",
      "\n",
      "    micro avg       0.19      0.19      0.19       800\n",
      "    macro avg       0.18      0.19      0.18       800\n",
      " weighted avg       0.18      0.19      0.18       800\n",
      "\n",
      "C =  1\n"
     ]
    },
    {
     "name": "stderr",
     "output_type": "stream",
     "text": [
      "/Library/Frameworks/Python.framework/Versions/3.7/lib/python3.7/site-packages/sklearn/linear_model/logistic.py:433: FutureWarning: Default solver will be changed to 'lbfgs' in 0.22. Specify a solver to silence this warning.\n",
      "  FutureWarning)\n",
      "/Library/Frameworks/Python.framework/Versions/3.7/lib/python3.7/site-packages/sklearn/linear_model/logistic.py:460: FutureWarning: Default multi_class will be changed to 'auto' in 0.22. Specify the multi_class option to silence this warning.\n",
      "  \"this warning.\", FutureWarning)\n"
     ]
    },
    {
     "name": "stdout",
     "output_type": "stream",
     "text": [
      "               precision    recall  f1-score   support\n",
      "\n",
      "   Electronic       0.22      0.14      0.17       100\n",
      " Experimental       0.21      0.18      0.20       100\n",
      "         Folk       0.17      0.21      0.19       100\n",
      "      Hip-Hop       0.29      0.31      0.30       100\n",
      " Instrumental       0.26      0.34      0.30       100\n",
      "International       0.27      0.30      0.28       100\n",
      "          Pop       0.19      0.07      0.10       100\n",
      "         Rock       0.24      0.34      0.28       100\n",
      "\n",
      "    micro avg       0.24      0.24      0.24       800\n",
      "    macro avg       0.23      0.24      0.23       800\n",
      " weighted avg       0.23      0.24      0.23       800\n",
      "\n",
      "C =  5\n"
     ]
    },
    {
     "name": "stderr",
     "output_type": "stream",
     "text": [
      "/Library/Frameworks/Python.framework/Versions/3.7/lib/python3.7/site-packages/sklearn/linear_model/logistic.py:433: FutureWarning: Default solver will be changed to 'lbfgs' in 0.22. Specify a solver to silence this warning.\n",
      "  FutureWarning)\n",
      "/Library/Frameworks/Python.framework/Versions/3.7/lib/python3.7/site-packages/sklearn/linear_model/logistic.py:460: FutureWarning: Default multi_class will be changed to 'auto' in 0.22. Specify the multi_class option to silence this warning.\n",
      "  \"this warning.\", FutureWarning)\n"
     ]
    },
    {
     "name": "stdout",
     "output_type": "stream",
     "text": [
      "               precision    recall  f1-score   support\n",
      "\n",
      "   Electronic       0.21      0.13      0.16       100\n",
      " Experimental       0.24      0.18      0.20       100\n",
      "         Folk       0.18      0.23      0.20       100\n",
      "      Hip-Hop       0.27      0.31      0.29       100\n",
      " Instrumental       0.26      0.36      0.30       100\n",
      "International       0.29      0.36      0.32       100\n",
      "          Pop       0.23      0.08      0.12       100\n",
      "         Rock       0.25      0.31      0.27       100\n",
      "\n",
      "    micro avg       0.24      0.24      0.24       800\n",
      "    macro avg       0.24      0.24      0.23       800\n",
      " weighted avg       0.24      0.24      0.23       800\n",
      "\n"
     ]
    }
   ],
   "source": [
    "C_params = [0.001, 0.1, 1, 5]\n",
    "for c in C_params:\n",
    "    print(\"C = \", c)\n",
    "    lr = sklearn.linear_model.LogisticRegression(C=c, penalty='l2')\n",
    "    lr.fit(X_train_chroma, y_train)\n",
    "    y_pred = lr.predict(X_test_chroma)\n",
    "    print(sklearn.metrics.classification_report(y_test, y_pred, target_names=genres))"
   ]
  },
  {
   "cell_type": "code",
   "execution_count": 59,
   "metadata": {},
   "outputs": [
    {
     "name": "stdout",
     "output_type": "stream",
     "text": [
      "n_neighbors =  1\n",
      "               precision    recall  f1-score   support\n",
      "\n",
      "   Electronic       0.38      0.33      0.35       100\n",
      " Experimental       0.13      0.12      0.12       100\n",
      "         Folk       0.16      0.16      0.16       100\n",
      "      Hip-Hop       0.47      0.58      0.52       100\n",
      " Instrumental       0.28      0.25      0.27       100\n",
      "International       0.31      0.36      0.33       100\n",
      "          Pop       0.22      0.21      0.22       100\n",
      "         Rock       0.38      0.38      0.38       100\n",
      "\n",
      "    micro avg       0.30      0.30      0.30       800\n",
      "    macro avg       0.29      0.30      0.29       800\n",
      " weighted avg       0.29      0.30      0.29       800\n",
      "\n",
      "n_neighbors =  2\n",
      "               precision    recall  f1-score   support\n",
      "\n",
      "   Electronic       0.32      0.50      0.39       100\n",
      " Experimental       0.18      0.25      0.21       100\n",
      "         Folk       0.17      0.22      0.19       100\n",
      "      Hip-Hop       0.46      0.56      0.51       100\n",
      " Instrumental       0.26      0.20      0.23       100\n",
      "International       0.31      0.24      0.27       100\n",
      "          Pop       0.17      0.10      0.13       100\n",
      "         Rock       0.58      0.22      0.32       100\n",
      "\n",
      "    micro avg       0.29      0.29      0.29       800\n",
      "    macro avg       0.31      0.29      0.28       800\n",
      " weighted avg       0.31      0.29      0.28       800\n",
      "\n",
      "n_neighbors =  3\n",
      "               precision    recall  f1-score   support\n",
      "\n",
      "   Electronic       0.33      0.53      0.40       100\n",
      " Experimental       0.19      0.24      0.21       100\n",
      "         Folk       0.17      0.20      0.18       100\n",
      "      Hip-Hop       0.54      0.63      0.58       100\n",
      " Instrumental       0.38      0.27      0.32       100\n",
      "International       0.28      0.25      0.26       100\n",
      "          Pop       0.29      0.12      0.17       100\n",
      "         Rock       0.51      0.39      0.44       100\n",
      "\n",
      "    micro avg       0.33      0.33      0.33       800\n",
      "    macro avg       0.34      0.33      0.32       800\n",
      " weighted avg       0.34      0.33      0.32       800\n",
      "\n",
      "n_neighbors =  4\n",
      "               precision    recall  f1-score   support\n",
      "\n",
      "   Electronic       0.33      0.47      0.39       100\n",
      " Experimental       0.17      0.18      0.17       100\n",
      "         Folk       0.16      0.20      0.18       100\n",
      "      Hip-Hop       0.52      0.60      0.56       100\n",
      " Instrumental       0.36      0.24      0.29       100\n",
      "International       0.29      0.27      0.28       100\n",
      "          Pop       0.25      0.16      0.19       100\n",
      "         Rock       0.43      0.38      0.40       100\n",
      "\n",
      "    micro avg       0.31      0.31      0.31       800\n",
      "    macro avg       0.31      0.31      0.31       800\n",
      " weighted avg       0.31      0.31      0.31       800\n",
      "\n",
      "n_neighbors =  5\n",
      "               precision    recall  f1-score   support\n",
      "\n",
      "   Electronic       0.38      0.45      0.41       100\n",
      " Experimental       0.15      0.13      0.14       100\n",
      "         Folk       0.14      0.16      0.15       100\n",
      "      Hip-Hop       0.52      0.59      0.55       100\n",
      " Instrumental       0.37      0.29      0.32       100\n",
      "International       0.27      0.29      0.28       100\n",
      "          Pop       0.22      0.18      0.20       100\n",
      "         Rock       0.44      0.43      0.44       100\n",
      "\n",
      "    micro avg       0.32      0.32      0.32       800\n",
      "    macro avg       0.31      0.32      0.31       800\n",
      " weighted avg       0.31      0.32      0.31       800\n",
      "\n",
      "n_neighbors =  6\n",
      "               precision    recall  f1-score   support\n",
      "\n",
      "   Electronic       0.40      0.41      0.40       100\n",
      " Experimental       0.14      0.11      0.12       100\n",
      "         Folk       0.14      0.16      0.15       100\n",
      "      Hip-Hop       0.49      0.60      0.54       100\n",
      " Instrumental       0.38      0.34      0.36       100\n",
      "International       0.28      0.34      0.31       100\n",
      "          Pop       0.24      0.20      0.22       100\n",
      "         Rock       0.48      0.41      0.44       100\n",
      "\n",
      "    micro avg       0.32      0.32      0.32       800\n",
      "    macro avg       0.32      0.32      0.32       800\n",
      " weighted avg       0.32      0.32      0.32       800\n",
      "\n",
      "n_neighbors =  7\n",
      "               precision    recall  f1-score   support\n",
      "\n",
      "   Electronic       0.41      0.41      0.41       100\n",
      " Experimental       0.14      0.12      0.13       100\n",
      "         Folk       0.15      0.17      0.16       100\n",
      "      Hip-Hop       0.47      0.61      0.53       100\n",
      " Instrumental       0.39      0.35      0.37       100\n",
      "International       0.33      0.37      0.35       100\n",
      "          Pop       0.27      0.20      0.23       100\n",
      "         Rock       0.47      0.43      0.45       100\n",
      "\n",
      "    micro avg       0.33      0.33      0.33       800\n",
      "    macro avg       0.33      0.33      0.33       800\n",
      " weighted avg       0.33      0.33      0.33       800\n",
      "\n",
      "n_neighbors =  8\n",
      "               precision    recall  f1-score   support\n",
      "\n",
      "   Electronic       0.37      0.39      0.38       100\n",
      " Experimental       0.12      0.10      0.11       100\n",
      "         Folk       0.16      0.19      0.17       100\n",
      "      Hip-Hop       0.46      0.61      0.52       100\n",
      " Instrumental       0.45      0.38      0.41       100\n",
      "International       0.29      0.34      0.31       100\n",
      "          Pop       0.30      0.21      0.25       100\n",
      "         Rock       0.45      0.41      0.43       100\n",
      "\n",
      "    micro avg       0.33      0.33      0.33       800\n",
      "    macro avg       0.32      0.33      0.32       800\n",
      " weighted avg       0.32      0.33      0.32       800\n",
      "\n",
      "n_neighbors =  9\n",
      "               precision    recall  f1-score   support\n",
      "\n",
      "   Electronic       0.40      0.37      0.39       100\n",
      " Experimental       0.12      0.10      0.11       100\n",
      "         Folk       0.12      0.15      0.14       100\n",
      "      Hip-Hop       0.46      0.62      0.53       100\n",
      " Instrumental       0.46      0.38      0.42       100\n",
      "International       0.31      0.36      0.33       100\n",
      "          Pop       0.28      0.20      0.23       100\n",
      "         Rock       0.44      0.43      0.44       100\n",
      "\n",
      "    micro avg       0.33      0.33      0.33       800\n",
      "    macro avg       0.32      0.33      0.32       800\n",
      " weighted avg       0.32      0.33      0.32       800\n",
      "\n",
      "n_neighbors =  10\n",
      "               precision    recall  f1-score   support\n",
      "\n",
      "   Electronic       0.41      0.36      0.38       100\n",
      " Experimental       0.11      0.08      0.09       100\n",
      "         Folk       0.13      0.15      0.14       100\n",
      "      Hip-Hop       0.47      0.64      0.54       100\n",
      " Instrumental       0.45      0.38      0.41       100\n",
      "International       0.31      0.36      0.33       100\n",
      "          Pop       0.29      0.23      0.26       100\n",
      "         Rock       0.42      0.44      0.43       100\n",
      "\n",
      "    micro avg       0.33      0.33      0.33       800\n",
      "    macro avg       0.32      0.33      0.32       800\n",
      " weighted avg       0.32      0.33      0.32       800\n",
      "\n"
     ]
    }
   ],
   "source": [
    "for n in range(1,11):\n",
    "    print(\"n_neighbors = \", n)\n",
    "    neigh = sklearn.neighbors.KNeighborsClassifier(n_neighbors=n)\n",
    "    neigh.fit(X_train_mfcc, y_train)\n",
    "    y_pred = neigh.predict(X_test_mfcc)\n",
    "    print(sklearn.metrics.classification_report(y_test, y_pred, target_names=genres))"
   ]
  },
  {
   "cell_type": "code",
   "execution_count": 60,
   "metadata": {},
   "outputs": [
    {
     "name": "stdout",
     "output_type": "stream",
     "text": [
      "n_neighbors =  1\n",
      "               precision    recall  f1-score   support\n",
      "\n",
      "   Electronic       0.15      0.15      0.15       100\n",
      " Experimental       0.16      0.20      0.18       100\n",
      "         Folk       0.18      0.17      0.18       100\n",
      "      Hip-Hop       0.17      0.14      0.15       100\n",
      " Instrumental       0.23      0.16      0.19       100\n",
      "International       0.17      0.22      0.19       100\n",
      "          Pop       0.13      0.14      0.14       100\n",
      "         Rock       0.21      0.19      0.20       100\n",
      "\n",
      "    micro avg       0.17      0.17      0.17       800\n",
      "    macro avg       0.17      0.17      0.17       800\n",
      " weighted avg       0.17      0.17      0.17       800\n",
      "\n",
      "n_neighbors =  2\n",
      "               precision    recall  f1-score   support\n",
      "\n",
      "   Electronic       0.16      0.27      0.20       100\n",
      " Experimental       0.12      0.25      0.16       100\n",
      "         Folk       0.19      0.24      0.21       100\n",
      "      Hip-Hop       0.12      0.11      0.11       100\n",
      " Instrumental       0.24      0.14      0.18       100\n",
      "International       0.15      0.13      0.14       100\n",
      "          Pop       0.13      0.06      0.08       100\n",
      "         Rock       0.42      0.05      0.09       100\n",
      "\n",
      "    micro avg       0.16      0.16      0.16       800\n",
      "    macro avg       0.19      0.16      0.15       800\n",
      " weighted avg       0.19      0.16      0.15       800\n",
      "\n",
      "n_neighbors =  3\n",
      "               precision    recall  f1-score   support\n",
      "\n",
      "   Electronic       0.15      0.29      0.20       100\n",
      " Experimental       0.13      0.26      0.18       100\n",
      "         Folk       0.19      0.20      0.19       100\n",
      "      Hip-Hop       0.18      0.15      0.16       100\n",
      " Instrumental       0.29      0.14      0.19       100\n",
      "International       0.16      0.15      0.16       100\n",
      "          Pop       0.16      0.09      0.12       100\n",
      "         Rock       0.34      0.12      0.18       100\n",
      "\n",
      "    micro avg       0.17      0.17      0.17       800\n",
      "    macro avg       0.20      0.17      0.17       800\n",
      " weighted avg       0.20      0.17      0.17       800\n",
      "\n",
      "n_neighbors =  4\n",
      "               precision    recall  f1-score   support\n",
      "\n",
      "   Electronic       0.18      0.32      0.23       100\n",
      " Experimental       0.16      0.28      0.20       100\n",
      "         Folk       0.16      0.15      0.15       100\n",
      "      Hip-Hop       0.16      0.10      0.12       100\n",
      " Instrumental       0.25      0.13      0.17       100\n",
      "International       0.15      0.17      0.16       100\n",
      "          Pop       0.15      0.12      0.13       100\n",
      "         Rock       0.23      0.10      0.14       100\n",
      "\n",
      "    micro avg       0.17      0.17      0.17       800\n",
      "    macro avg       0.18      0.17      0.16       800\n",
      " weighted avg       0.18      0.17      0.16       800\n",
      "\n",
      "n_neighbors =  5\n",
      "               precision    recall  f1-score   support\n",
      "\n",
      "   Electronic       0.10      0.13      0.11       100\n",
      " Experimental       0.12      0.21      0.15       100\n",
      "         Folk       0.15      0.14      0.15       100\n",
      "      Hip-Hop       0.19      0.13      0.15       100\n",
      " Instrumental       0.23      0.14      0.17       100\n",
      "International       0.17      0.24      0.20       100\n",
      "          Pop       0.15      0.12      0.13       100\n",
      "         Rock       0.24      0.11      0.15       100\n",
      "\n",
      "    micro avg       0.15      0.15      0.15       800\n",
      "    macro avg       0.17      0.15      0.15       800\n",
      " weighted avg       0.17      0.15      0.15       800\n",
      "\n",
      "n_neighbors =  6\n",
      "               precision    recall  f1-score   support\n",
      "\n",
      "   Electronic       0.13      0.15      0.14       100\n",
      " Experimental       0.14      0.23      0.17       100\n",
      "         Folk       0.16      0.17      0.16       100\n",
      "      Hip-Hop       0.19      0.16      0.17       100\n",
      " Instrumental       0.23      0.15      0.18       100\n",
      "International       0.19      0.28      0.22       100\n",
      "          Pop       0.14      0.10      0.11       100\n",
      "         Rock       0.24      0.09      0.13       100\n",
      "\n",
      "    micro avg       0.17      0.17      0.17       800\n",
      "    macro avg       0.18      0.17      0.16       800\n",
      " weighted avg       0.18      0.17      0.16       800\n",
      "\n",
      "n_neighbors =  7\n",
      "               precision    recall  f1-score   support\n",
      "\n",
      "   Electronic       0.15      0.18      0.16       100\n",
      " Experimental       0.13      0.23      0.16       100\n",
      "         Folk       0.15      0.16      0.15       100\n",
      "      Hip-Hop       0.23      0.18      0.20       100\n",
      " Instrumental       0.27      0.17      0.21       100\n",
      "International       0.19      0.29      0.23       100\n",
      "          Pop       0.12      0.08      0.10       100\n",
      "         Rock       0.26      0.09      0.13       100\n",
      "\n",
      "    micro avg       0.17      0.17      0.17       800\n",
      "    macro avg       0.19      0.17      0.17       800\n",
      " weighted avg       0.19      0.17      0.17       800\n",
      "\n",
      "n_neighbors =  8\n",
      "               precision    recall  f1-score   support\n",
      "\n",
      "   Electronic       0.18      0.23      0.20       100\n",
      " Experimental       0.13      0.25      0.17       100\n",
      "         Folk       0.14      0.16      0.15       100\n",
      "      Hip-Hop       0.24      0.18      0.20       100\n",
      " Instrumental       0.28      0.15      0.19       100\n",
      "International       0.18      0.29      0.22       100\n",
      "          Pop       0.11      0.06      0.08       100\n",
      "         Rock       0.16      0.05      0.08       100\n",
      "\n",
      "    micro avg       0.17      0.17      0.17       800\n",
      "    macro avg       0.18      0.17      0.16       800\n",
      " weighted avg       0.18      0.17      0.16       800\n",
      "\n",
      "n_neighbors =  9\n",
      "               precision    recall  f1-score   support\n",
      "\n",
      "   Electronic       0.19      0.22      0.20       100\n",
      " Experimental       0.14      0.26      0.18       100\n",
      "         Folk       0.16      0.17      0.17       100\n",
      "      Hip-Hop       0.26      0.18      0.21       100\n",
      " Instrumental       0.28      0.16      0.20       100\n",
      "International       0.19      0.31      0.23       100\n",
      "          Pop       0.12      0.07      0.09       100\n",
      "         Rock       0.20      0.08      0.11       100\n",
      "\n",
      "    micro avg       0.18      0.18      0.18       800\n",
      "    macro avg       0.19      0.18      0.18       800\n",
      " weighted avg       0.19      0.18      0.18       800\n",
      "\n",
      "n_neighbors =  10\n",
      "               precision    recall  f1-score   support\n",
      "\n",
      "   Electronic       0.20      0.22      0.21       100\n",
      " Experimental       0.15      0.28      0.19       100\n",
      "         Folk       0.12      0.12      0.12       100\n",
      "      Hip-Hop       0.22      0.16      0.18       100\n",
      " Instrumental       0.21      0.12      0.15       100\n",
      "International       0.18      0.31      0.23       100\n",
      "          Pop       0.11      0.06      0.08       100\n",
      "         Rock       0.18      0.08      0.11       100\n",
      "\n",
      "    micro avg       0.17      0.17      0.17       800\n",
      "    macro avg       0.17      0.17      0.16       800\n",
      " weighted avg       0.17      0.17      0.16       800\n",
      "\n"
     ]
    }
   ],
   "source": [
    "for n in range(1,11):\n",
    "    print(\"n_neighbors = \", n)\n",
    "    neigh = sklearn.neighbors.KNeighborsClassifier(n_neighbors=n)\n",
    "    neigh.fit(X_train_chroma, y_train)\n",
    "    y_pred = neigh.predict(X_test_chroma)\n",
    "    print(sklearn.metrics.classification_report(y_test, y_pred, target_names=genres))"
   ]
  }
 ],
 "metadata": {
  "kernelspec": {
   "display_name": "Python 3",
   "language": "python",
   "name": "python3"
  },
  "language_info": {
   "codemirror_mode": {
    "name": "ipython",
    "version": 3
   },
   "file_extension": ".py",
   "mimetype": "text/x-python",
   "name": "python",
   "nbconvert_exporter": "python",
   "pygments_lexer": "ipython3",
   "version": "3.7.1"
  }
 },
 "nbformat": 4,
 "nbformat_minor": 2
}
